{
 "cells": [
  {
   "cell_type": "markdown",
   "id": "a55c56b5-d013-4871-8d11-50e81951e364",
   "metadata": {},
   "source": [
    "# Create basic component & pipeline"
   ]
  },
  {
   "cell_type": "markdown",
   "id": "ac98aced-2665-49bd-bbdb-47c78c26ca1f",
   "metadata": {},
   "source": [
    "## Here we will create the simplest pipeline possible, only one component that add two inputs"
   ]
  },
  {
   "cell_type": "markdown",
   "id": "4e842645-c181-46fb-a1e7-195fd84c3516",
   "metadata": {},
   "source": [
    "#### Create a simple add function"
   ]
  },
  {
   "cell_type": "code",
   "execution_count": null,
   "id": "78cda960-a69d-48da-a0b5-133bb1b1b64e",
   "metadata": {},
   "outputs": [],
   "source": [
    "### this is our component code\n",
    "def add(a: float, b: float) -> float:\n",
    "    '''Calculates sum of two arguments'''\n",
    "    print(a + b)\n",
    "    return a + b"
   ]
  },
  {
   "cell_type": "markdown",
   "id": "4852eb9e-0660-4312-8396-f5386262c79b",
   "metadata": {},
   "source": [
    "#### From this function let's create a component"
   ]
  },
  {
   "cell_type": "code",
   "execution_count": null,
   "id": "98fa6368-2dca-4079-a0db-eb80a12099e2",
   "metadata": {},
   "outputs": [],
   "source": [
    "# install dependancies (protobuf, exchange format)\n",
    "!pip install protobuf==3.20"
   ]
  },
  {
   "cell_type": "code",
   "execution_count": null,
   "id": "4ae9c847-0b9b-4ad5-aefd-e942e6b87c49",
   "metadata": {},
   "outputs": [],
   "source": [
    "# import depandancies\n",
    "import kfp as kfp\n",
    "import kfp.dsl as dsl\n",
    "from kfp import components\n",
    "import os\n",
    "from kfp.components import InputPath, OutputPath, create_component_from_func #import some functions from the kfp api to help the pipelines creation"
   ]
  },
  {
   "cell_type": "code",
   "execution_count": null,
   "id": "2e089138-0d4c-4126-8dbb-c7d007505e6f",
   "metadata": {},
   "outputs": [],
   "source": [
    "# create destiantion folder for components\n",
    "!mkdir components"
   ]
  },
  {
   "cell_type": "code",
   "execution_count": null,
   "id": "d6397c2e-f4b9-44e5-bb18-d577a461afe2",
   "metadata": {},
   "outputs": [],
   "source": [
    "### this helper will create a yaml that embed a python image, and some code executed thru it\n",
    "create_component_from_func(\n",
    "    add,\n",
    "    output_component_file='components/add_component.yaml',\n",
    "    base_image='python:3.7'\n",
    ")"
   ]
  },
  {
   "cell_type": "markdown",
   "id": "2626618a-b11c-445d-9bae-f40d83855ecc",
   "metadata": {},
   "source": [
    "#### Once this component is created, we will load it into a python variable"
   ]
  },
  {
   "cell_type": "code",
   "execution_count": null,
   "id": "7121c90a-435f-4293-88ff-26a0cf84ed59",
   "metadata": {},
   "outputs": [],
   "source": [
    "add_op = components.load_component_from_file('components/add_component.yaml')"
   ]
  },
  {
   "cell_type": "markdown",
   "id": "c66827bc-5ef0-4ead-ac38-0593f9365bd6",
   "metadata": {},
   "source": [
    "### Create a pipeline using this component"
   ]
  },
  {
   "cell_type": "code",
   "execution_count": null,
   "id": "70c0f095-a4bf-4e88-9778-88b1595be5cf",
   "metadata": {},
   "outputs": [],
   "source": [
    "# define metadata for the pipeline\n",
    "@dsl.pipeline(\n",
    "    name='addition-pipeline',\n",
    "    description='An example pipeline that performs addition calculations.',\n",
    ")\n",
    "# define the pipeline function, using the add component\n",
    "def add_pipeline(a: float = 1, b: float = 7):\n",
    "    add_task = add_op(a, b)"
   ]
  },
  {
   "cell_type": "markdown",
   "id": "0ca5e96d-4d57-4e4f-af8f-1ac054d1858b",
   "metadata": {},
   "source": [
    "### Create the KFP client to link with Kubeflow Pipeline"
   ]
  },
  {
   "cell_type": "code",
   "execution_count": null,
   "id": "343e94a7-c72c-4652-a09b-4ba80a163725",
   "metadata": {},
   "outputs": [],
   "source": [
    "### a token has been automatically provided in the KF_PIPELINES_SA_TOKEN_PATH variable. This token allow accès to only your namespace\n",
    "token_file = os.getenv(\"KF_PIPELINES_SA_TOKEN_PATH\")\n",
    "with open(token_file) as f:\n",
    "    token = f.readline()\n",
    "client = kfp.Client(host='http://ml-pipeline.kubeflow.svc.cluster.local:8888',\n",
    "               existing_token=token)"
   ]
  },
  {
   "cell_type": "markdown",
   "id": "30462c3f-df84-4dac-b4d5-97b67ace6fec",
   "metadata": {},
   "source": [
    "Pipeline runs are aggregated by \"experiments\", you can list it in Kubeflow UI in \"experiments(KFP)\" menu.\n",
    "\n",
    "We will create a new experiment, we can use 2 ways to do it\n",
    "- Within the interface (press new, add a name, validate and then come back to this notebook\n",
    "- we can create it from the notebook using this snippet, adapted with your namespace name : \n",
    "\n"
   ]
  },
  {
   "cell_type": "code",
   "execution_count": null,
   "id": "a8592324-2219-46dd-859f-535dd898ba4f",
   "metadata": {},
   "outputs": [],
   "source": [
    "# namespace is made from \n",
    "user=''#firstname-lastname\n",
    "namespace = f'kubeflow-user-{user}'"
   ]
  },
  {
   "cell_type": "code",
   "execution_count": null,
   "id": "67ae7a0d-0f21-48a2-a55f-509c00160e4e",
   "metadata": {},
   "outputs": [],
   "source": [
    "### create the experiment using kfp client API and create_experiment function\n",
    "EXPERIMENT_NAME = 'Aiengineer labs session2'\n",
    "experiment = ...\n"
   ]
  },
  {
   "cell_type": "code",
   "execution_count": null,
   "id": "33afd76c-d9a2-43cf-916a-bc57f9c90861",
   "metadata": {},
   "outputs": [],
   "source": [
    "# check if your experiments has been created by listing all experiments\n",
    "client..."
   ]
  },
  {
   "cell_type": "markdown",
   "id": "d2828b81-6e9d-4d52-8780-2125cce6cead",
   "metadata": {},
   "source": [
    "### Submit the pipeline using the client"
   ]
  },
  {
   "cell_type": "code",
   "execution_count": null,
   "id": "270cc8cf-17cc-4f21-bd2d-0104c9963ce8",
   "metadata": {},
   "outputs": [],
   "source": [
    "import datetime as dt"
   ]
  },
  {
   "cell_type": "code",
   "execution_count": null,
   "id": "47062c0b-84fe-4fdb-bda1-1cb158ddde00",
   "metadata": {},
   "outputs": [],
   "source": [
    "# Create a run from your pipeline function\n",
    "client.create_run_from_pipeline_func(\n",
    "    pipeline_func=...,\n",
    "    namespace = ...,\n",
    "    experiment_name=...,\n",
    "    run_name=f\"add_pipeline_{dt.datetime.today().isoformat()}\",\n",
    "    arguments={}\n",
    "    )"
   ]
  },
  {
   "cell_type": "markdown",
   "id": "200b2be7-338c-4f32-b6b8-474ebb078d77",
   "metadata": {},
   "source": [
    "### Monitor the result "
   ]
  },
  {
   "cell_type": "markdown",
   "id": "26f80eeb",
   "metadata": {},
   "source": [
    "You should be able to access your pipeline run, using \"experiments\" menu of the kubeflow UI, expanding the experiment name you defined just before\n",
    "\n",
    "![exp](./images/experimentview.png)"
   ]
  },
  {
   "cell_type": "markdown",
   "id": "2f11dad9-3bfa-4fa1-8ab6-823d81d69dc4",
   "metadata": {},
   "source": [
    "If you click on the link, and click on the component in the graph, you can see the result of the \"add\" open\n",
    "\n",
    "![results](./images/add_results.png)"
   ]
  },
  {
   "cell_type": "markdown",
   "id": "401f9132-205a-4672-b230-0391a46efa95",
   "metadata": {},
   "source": [
    "### Export a metric to allow better monitoring"
   ]
  },
  {
   "cell_type": "code",
   "execution_count": null,
   "id": "bb6b28ac-0c69-45a4-a067-0bd4f1f745fa",
   "metadata": {},
   "outputs": [],
   "source": [
    "# here we defined an OutputPath to export metrics\n",
    "def add_with_metric_export(\n",
    "    a: float, \n",
    "    b: float,\n",
    "    mlpipeline_metrics_path: OutputPath('Metrics')\n",
    ") -> float:\n",
    "    '''Calculates sum of two arguments'''\n",
    "    import json\n",
    "    \n",
    "    ### Save and exports metrics ###\n",
    "    metrics = {\n",
    "    'metrics': [{\n",
    "        'name': 'add_result', \n",
    "        'numberValue': a + b, \n",
    "        }]\n",
    "    }\n",
    "    \n",
    "    with open(mlpipeline_metrics_path, 'w') as f:\n",
    "        json.dump(metrics, f)\n",
    "\n",
    "    return a + b"
   ]
  },
  {
   "cell_type": "code",
   "execution_count": null,
   "id": "d1fd2793-6bb9-471b-8256-c083ff8eddf0",
   "metadata": {},
   "outputs": [],
   "source": [
    "### this helper will create a yaml that embed a python image, and some code executed thru it\n",
    "create_component_from_func(\n",
    "    add_with_metric_export,\n",
    "    output_component_file='components/add_component_with_metric.yaml',\n",
    "    base_image='python:3.7'\n",
    ")"
   ]
  },
  {
   "cell_type": "markdown",
   "id": "bf08576f-11df-470b-8c19-5b4976afd96d",
   "metadata": {},
   "source": [
    "### rerun the pipeline replacing 'add' component with it's new version"
   ]
  },
  {
   "cell_type": "code",
   "execution_count": null,
   "id": "ac732d3b-74c5-41ad-be81-6ffaa601f348",
   "metadata": {},
   "outputs": [],
   "source": [
    "add_wm_op = components.load_component_from_file(...)\n",
    "\n",
    "# define metadata for the pipeline\n",
    "@dsl.pipeline(\n",
    "    name='addition-pipeline',\n",
    "    description='An other example pipeline that performs addition calculations.',\n",
    ")\n",
    "# define the pipeline function, using the add component\n",
    "def add_wm_pipeline(a: float = 2, b: float = 8):\n",
    "    add_task = ...\n",
    "    \n",
    "client.create_run_from_pipeline_func(\n",
    "    pipeline_func=...,\n",
    "    namespace = ...,\n",
    "    experiment_name=...,\n",
    "    run_name=f\"add_pipeline_wm_{dt.datetime.today().isoformat()}\",\n",
    "    arguments={}\n",
    "    )"
   ]
  },
  {
   "cell_type": "markdown",
   "id": "26f620a3-f5a1-4baf-9a4d-06e72ac9b3f7",
   "metadata": {},
   "source": [
    "Visualize the difference \n",
    "![adv](./images/add_result_viz.png)"
   ]
  },
  {
   "cell_type": "code",
   "execution_count": null,
   "id": "03472e28-7bde-4097-bd90-eb0745613ab8",
   "metadata": {},
   "outputs": [],
   "source": []
  }
 ],
 "metadata": {
  "kernelspec": {
   "display_name": "Python 3 (ipykernel)",
   "language": "python",
   "name": "python3"
  },
  "language_info": {
   "codemirror_mode": {
    "name": "ipython",
    "version": 3
   },
   "file_extension": ".py",
   "mimetype": "text/x-python",
   "name": "python",
   "nbconvert_exporter": "python",
   "pygments_lexer": "ipython3",
   "version": "3.8.10"
  },
  "vscode": {
   "interpreter": {
    "hash": "1db6d0c0fb62fcd92812f526c45c77dc568410c92bb0ad7cc615a53ad33175c5"
   }
  }
 },
 "nbformat": 4,
 "nbformat_minor": 5
}

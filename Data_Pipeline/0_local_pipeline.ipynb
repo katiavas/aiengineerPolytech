{
 "cells": [
  {
   "cell_type": "markdown",
   "id": "804ec002-1363-4150-a20e-f4123d056d42",
   "metadata": {},
   "source": [
    "# Chicago taxi tips Regression Pipeline local"
   ]
  },
  {
   "cell_type": "code",
   "execution_count": null,
   "id": "3676f4be-583f-4a8e-a42b-36cd8820366e",
   "metadata": {},
   "outputs": [],
   "source": [
    "from sklearn.model_selection import train_test_split"
   ]
  },
  {
   "cell_type": "markdown",
   "id": "237c8c11-2c89-413a-a062-af1e0671dfa1",
   "metadata": {},
   "source": [
    "#### Create datasets compatible with xgboost model"
   ]
  },
  {
   "cell_type": "code",
   "execution_count": null,
   "id": "068a4d00-0e2f-4519-8ce1-ec6659a56e8f",
   "metadata": {},
   "outputs": [],
   "source": [
    "def create_sets(data,label_column):\n",
    "    ### get label by selecting only the label column\n",
    "    label=...\n",
    "    ### get features by dropping label from the input\n",
    "    data=...\n",
    "    ### use imported train_test_split function, use relevant test_size and fix the random state\n",
    "    X_train, X_test, y_train, y_test = train_test_split...\n",
    "    ### Prepare DMatrix objects to allow xgboost to train data on \n",
    "    dtrain = xgboost.DMatrix(...)\n",
    "    dtest = xgboost.DMatrix(...)\n",
    "    return dtrain, dtest \n",
    "    "
   ]
  },
  {
   "cell_type": "markdown",
   "id": "063f8574-48a4-4d34-85c1-1098c1b05919",
   "metadata": {},
   "source": [
    "#### Create callback to use xgboost with tensorboard"
   ]
  },
  {
   "cell_type": "code",
   "execution_count": null,
   "id": "7bdf3442-b407-482a-902a-6d309d4efec2",
   "metadata": {
    "tags": []
   },
   "outputs": [],
   "source": [
    "# install custom python client to use tensorboard with non tensorflow models\n",
    "!pip install tensorboardX"
   ]
  },
  {
   "cell_type": "code",
   "execution_count": null,
   "id": "c6145394-6a0c-4b92-8d5e-3eb175040f3f",
   "metadata": {},
   "outputs": [],
   "source": [
    "# import tensorboard custom client dependancy\n",
    "from tensorboardX import SummaryWriter"
   ]
  },
  {
   "cell_type": "code",
   "execution_count": null,
   "id": "abce4ccb-8144-45f1-8d5e-b56b2c3ee218",
   "metadata": {},
   "outputs": [],
   "source": [
    "# This function allows to create a summary from xgboost training data\n",
    "def TensorBoardCallback(training_log_path):\n",
    "    writer = SummaryWriter(training_log_path)\n",
    "\n",
    "    def callback(env):\n",
    "        for k, v in env.evaluation_result_list:\n",
    "            print(k,v)\n",
    "            writer.add_scalar(k, v, env.iteration)\n",
    "\n",
    "    return callback"
   ]
  },
  {
   "cell_type": "markdown",
   "id": "e0133ee4-7324-46d2-af9c-b59a910aff2b",
   "metadata": {},
   "source": [
    "#### Create the main train function"
   ]
  },
  {
   "cell_type": "code",
   "execution_count": null,
   "id": "f5cda9dc-03a9-43a2-b82f-5236e157f8f9",
   "metadata": {
    "tags": []
   },
   "outputs": [],
   "source": [
    "### install xgboost package\n",
    "!pip install xgboost==1.1.0"
   ]
  },
  {
   "cell_type": "code",
   "execution_count": null,
   "id": "cfabf6f6-4bdc-4b66-a761-a9f7bb62a151",
   "metadata": {},
   "outputs": [],
   "source": [
    "import xgboost"
   ]
  },
  {
   "cell_type": "code",
   "execution_count": null,
   "id": "8f8652a8-be67-498b-908f-7cddf711e659",
   "metadata": {},
   "outputs": [],
   "source": [
    "def xgboost_train(data,label,num_iterations,training_log_path,booster_params):\n",
    "    \n",
    "    ### create train,test objects from the function defined upper\n",
    "    dtrain, dtest = ...\n",
    "    \n",
    "    # Booster parameters with default values\n",
    "    booster_params = booster_params or {}\n",
    "    booster_params.setdefault('objective', 'reg:squarederror')\n",
    "    booster_params.setdefault('booster', 'gbtree')\n",
    "    booster_params.setdefault('learning_rate', 0.3)\n",
    "    booster_params.setdefault('min_split_loss', 0)\n",
    "    booster_params.setdefault('max_depth', 6)\n",
    "    \n",
    "    num_iterations = num_iterations or 20\n",
    "    \n",
    "    ### create blank model\n",
    "    model = xgboost.train(\n",
    "        params=booster_params,\n",
    "        dtrain=dtrain,\n",
    "        num_boost_round=num_iterations,\n",
    "        evals=[(dtrain, 'train'), (dtest, 'test')],\n",
    "       callbacks=[TensorBoardCallback(training_log_path)]\n",
    "    )\n",
    "    return model"
   ]
  },
  {
   "cell_type": "markdown",
   "id": "d19cd7f3-713a-4578-ace4-927cca0b40ba",
   "metadata": {},
   "source": [
    "### Test the training"
   ]
  },
  {
   "cell_type": "markdown",
   "id": "ff968f20-3092-4ef7-8866-ac79c300b17f",
   "metadata": {},
   "source": [
    "##### Create minio client to get data"
   ]
  },
  {
   "cell_type": "code",
   "execution_count": null,
   "id": "59aaf7ae-4249-490b-859e-b682ccabb899",
   "metadata": {},
   "outputs": [],
   "source": [
    "#installing dependancies : pyarrow to read & process parquet format\n",
    "!pip install pyarrow"
   ]
  },
  {
   "cell_type": "code",
   "execution_count": null,
   "id": "379ef00d-3190-4e2d-a812-0fa6098912f1",
   "metadata": {},
   "outputs": [],
   "source": [
    "from minio import Minio\n",
    "import urllib3\n",
    "from io import BytesIO\n",
    "import pandas as pd\n",
    "import pyarrow\n",
    "import datetime\n",
    "import os"
   ]
  },
  {
   "cell_type": "code",
   "execution_count": null,
   "id": "f46c7a7d-a8e0-4498-9d2f-d5edd3c210ae",
   "metadata": {},
   "outputs": [],
   "source": [
    "## Create a client with the access key and the secret key given, you can help yourself from previous technical sessions\n",
    "client = Minio(\n",
    "    ...\n",
    ")"
   ]
  },
  {
   "cell_type": "code",
   "execution_count": null,
   "id": "e53618da-890f-4401-ad1e-e558933546fb",
   "metadata": {},
   "outputs": [],
   "source": [
    "bucket_name = ''#firstname-name\n",
    "object_name = 'datasets/chicago/trips.parquet'"
   ]
  },
  {
   "cell_type": "code",
   "execution_count": null,
   "id": "69963ded-4e47-4a80-b344-8e98a2441bd1",
   "metadata": {},
   "outputs": [],
   "source": [
    "# Get data from minio using get_object, decode it using BytesIO and read the parquet result with pandas, you can help yourself from previous technical sessions\n",
    "try:\n",
    "    ...\n",
    "    # Read data from response.\n",
    "    ...\n",
    "    data = ...\n",
    "finally:\n",
    "    response.close()\n",
    "    response.release_conn()"
   ]
  },
  {
   "cell_type": "code",
   "execution_count": null,
   "id": "8c507d87-b82c-47d7-98fc-e437744c3908",
   "metadata": {},
   "outputs": [],
   "source": [
    "data.head()"
   ]
  },
  {
   "cell_type": "code",
   "execution_count": null,
   "id": "d1c084e2-5958-4f9f-a88b-38dcf25d6a79",
   "metadata": {},
   "outputs": [],
   "source": [
    "data = data.drop([\"trip_start_timestamp\"],axis=1).dropna()"
   ]
  },
  {
   "cell_type": "code",
   "execution_count": null,
   "id": "e8c1e127-4443-492a-a688-09a41464b0f1",
   "metadata": {},
   "outputs": [],
   "source": [
    "xgboost_train(\n",
    "    data=...,\n",
    "    label='tips',\n",
    "    num_iterations=20,    \n",
    "    training_log_path=f\"training/fit/taxi-trips/{datetime.datetime.now().strftime('%Y%m%d-%H%M%S')}\",\n",
    "    booster_params={}\n",
    ")"
   ]
  },
  {
   "cell_type": "markdown",
   "id": "59443778-74ed-4c29-a6b5-84896aa4f58d",
   "metadata": {},
   "source": [
    "### Now connect to your tensorboard and check the loss"
   ]
  },
  {
   "cell_type": "markdown",
   "id": "9211c1a6-3b05-4ef1-9357-84927aa5ddf7",
   "metadata": {},
   "source": [
    "1. Go to the Kubeflow interface and click on 'tensorboard'\n",
    "\n",
    "![menu_tenso](./images/menu_tenso.png)"
   ]
  },
  {
   "cell_type": "markdown",
   "id": "55e460e1",
   "metadata": {},
   "source": [
    "2. click on 'new' \n",
    "\n",
    "![new](./images/new.png)"
   ]
  },
  {
   "cell_type": "markdown",
   "id": "89da9cb9",
   "metadata": {},
   "source": [
    "3. link it to your lab, where you persist your training logs\n",
    "\n",
    "![board](./images/board.png)"
   ]
  },
  {
   "cell_type": "markdown",
   "id": "df7df5b4",
   "metadata": {},
   "source": [
    "4. click `connect` and you should be able to see your train metrics\n",
    "\n",
    "![tenso](./images/tenso.png)"
   ]
  }
 ],
 "metadata": {
  "kernelspec": {
   "display_name": "Python 3 (ipykernel)",
   "language": "python",
   "name": "python3"
  },
  "language_info": {
   "codemirror_mode": {
    "name": "ipython",
    "version": 3
   },
   "file_extension": ".py",
   "mimetype": "text/x-python",
   "name": "python",
   "nbconvert_exporter": "python",
   "pygments_lexer": "ipython3",
   "version": "3.8.10"
  },
  "vscode": {
   "interpreter": {
    "hash": "1db6d0c0fb62fcd92812f526c45c77dc568410c92bb0ad7cc615a53ad33175c5"
   }
  }
 },
 "nbformat": 4,
 "nbformat_minor": 5
}

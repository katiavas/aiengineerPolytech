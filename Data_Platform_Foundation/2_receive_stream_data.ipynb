{
 "cells": [
  {
   "cell_type": "markdown",
   "metadata": {},
   "source": [
    "# Receive and read streaming events"
   ]
  },
  {
   "cell_type": "markdown",
   "metadata": {},
   "source": [
    "Here you want to create a process that will listen to a topic, and print all that it get from this topic"
   ]
  },
  {
   "cell_type": "code",
   "execution_count": null,
   "metadata": {},
   "outputs": [],
   "source": [
    "# import dependancies : request to do some get or post queries directly in python\n",
    "import requests"
   ]
  },
  {
   "cell_type": "markdown",
   "metadata": {},
   "source": [
    "### 1.2.0 Consumer configuration"
   ]
  },
  {
   "cell_type": "code",
   "execution_count": null,
   "metadata": {},
   "outputs": [],
   "source": [
    "kafkabrokers=\"https://streaming-bridge.course.aiengineer.codex-platform.com\"\n",
    "# as every personal object, consumer is name with name-surname\n",
    "consumerName=''#name-surname\n",
    "keyName=''#name-surname"
   ]
  },
  {
   "cell_type": "code",
   "execution_count": null,
   "metadata": {},
   "outputs": [],
   "source": [
    "#header when create and suscribe with consumer group\n",
    "headers={\n",
    "    'content-type': 'application/vnd.kafka.v2+json'\n",
    "}\n",
    "#header when reading from a topic \n",
    "headersGet={\n",
    "   'Accept': 'application/vnd.kafka.binary.v2+json'\n",
    "}\n",
    "# topic dict definition\n",
    "topic = {\n",
    "    \"topics\": [\n",
    "        \"aiengineer.tp.1\"\n",
    "    ]\n",
    "}\n",
    "# consumer configuration\n",
    "consumerConf = {\n",
    "    \"name\": f\"{consumerName}\",\n",
    "    \"auto.offset.reset\": \"earliest\", # when reseting offset (index of last red message) the chosen index is the earliest\n",
    "    \"format\": \"binary\", #messages are binary encoded\n",
    "    \"enable.auto.commit\": False, # we must manually say to the kafka bridge what are the consumed messages offset\n",
    "    \"fetch.min.bytes\": 512,\n",
    "    \"consumer.request.timeout.ms\": 30000\n",
    "}\n"
   ]
  },
  {
   "cell_type": "markdown",
   "metadata": {},
   "source": [
    "### 1.2.1 Create your consumer group"
   ]
  },
  {
   "cell_type": "code",
   "execution_count": null,
   "metadata": {},
   "outputs": [],
   "source": [
    "# this will allow you to suscribe to a topic\n",
    "resp = requests.post(url = f\"{kafkabrokers}/consumers/consumer-group-{consumerName}\",\n",
    "                  headers=headers,\n",
    "                  json=consumerConf\n",
    "                  )\n",
    "print(resp.status_code, resp.text)\n"
   ]
  },
  {
   "cell_type": "markdown",
   "metadata": {},
   "source": [
    "### 1.2.2 Suscrible to a topic with your consumer, part of the consumer group"
   ]
  },
  {
   "cell_type": "code",
   "execution_count": null,
   "metadata": {},
   "outputs": [],
   "source": [
    "requests.post(url = f\"{kafkabrokers}/consumers/consumer-group-{consumerName}/instances/{consumerName}/subscription\",\n",
    "                  headers=headers,\n",
    "                  json=topic\n",
    "                  ).content\n"
   ]
  },
  {
   "cell_type": "markdown",
   "metadata": {
    "jupyter": {
     "source_hidden": true
    },
    "tags": []
   },
   "source": [
    "### (1.2.3) Delete consumer group"
   ]
  },
  {
   "cell_type": "code",
   "execution_count": null,
   "metadata": {
    "jupyter": {
     "source_hidden": true
    },
    "tags": []
   },
   "outputs": [],
   "source": [
    "# Not needed but in case of wrong consumer group creation, you can delete it from here\n",
    "# resp = requests.delete(url=f\"{kafkabrokers}/consumers/consumer-group-{consumerName}/instances/{consumerName}\")\n"
   ]
  },
  {
   "cell_type": "markdown",
   "metadata": {},
   "source": [
    "### 1.2.4 Get events from the topic"
   ]
  },
  {
   "cell_type": "code",
   "execution_count": null,
   "metadata": {},
   "outputs": [],
   "source": [
    "# import dependancies : a python client that allow writing events to our kafka bridge\n",
    "from kafka_bridge_client import KafkaBridgeConsumer\n",
    "# import depdendancies : a library tha allow easy encoding/decoding management\n",
    "import codecs"
   ]
  },
  {
   "cell_type": "code",
   "execution_count": null,
   "metadata": {},
   "outputs": [],
   "source": [
    "topic.get('topics').pop()"
   ]
  },
  {
   "cell_type": "code",
   "execution_count": null,
   "metadata": {},
   "outputs": [],
   "source": [
    "consumer1 = KafkaBridgeConsumer(\n",
    "    topic.get('topics').pop(),\n",
    "    group_id=f\"consumer-group-{consumerName}\",\n",
    "    auto_offset_reset='earliest',\n",
    "    enable_auto_commit=False,\n",
    "    bootstrap_server=kafkabrokers,\n",
    "    consumer_name=consumerName\n",
    ")"
   ]
  },
  {
   "cell_type": "code",
   "execution_count": null,
   "metadata": {},
   "outputs": [],
   "source": [
    "def decode_kafka_record(record):\n",
    "    \"\"\"\n",
    "    in: record : kafka_bridge_client.Message\n",
    "    return : key string, value string\n",
    "    \"\"\"\n",
    "    key = codecs.decode(bytes(record['key'],'utf-8'),'base64').decode('utf-8')\n",
    "    value = codecs.decode(bytes(record['value'],'utf-8'),'base64').decode('utf-8')\n",
    "    return key, value\n",
    "    "
   ]
  },
  {
   "cell_type": "code",
   "execution_count": null,
   "metadata": {},
   "outputs": [],
   "source": [
    "#Here we will asynchronously get records from topics\n",
    "async for rec in consumer1.get_records(max_bytes=10000):\n",
    "    ## get decoded key and value from record\n",
    "    key,value = decode_kafka_record(rec)\n",
    "    ## print those corresponding to your user key\n",
    "    if key==keyName:\n",
    "        print(f\"record key: {key}\")\n",
    "        print(f\"record valaue: {value}\")\n",
    "    await consumer1.commit()"
   ]
  },
  {
   "cell_type": "markdown",
   "metadata": {},
   "source": [
    "### There shoul be printed your name as a key and a line of the features as values"
   ]
  },
  {
   "cell_type": "markdown",
   "metadata": {},
   "source": [
    "#### Now stop the kernel of your notebook (using the stop icon) to terminate the topic reading"
   ]
  },
  {
   "cell_type": "markdown",
   "metadata": {},
   "source": []
  }
 ],
 "metadata": {
  "kernelspec": {
   "display_name": "Python 3 (ipykernel)",
   "language": "python",
   "name": "python3"
  },
  "language_info": {
   "codemirror_mode": {
    "name": "ipython",
    "version": 3
   },
   "file_extension": ".py",
   "mimetype": "text/x-python",
   "name": "python",
   "nbconvert_exporter": "python",
   "pygments_lexer": "ipython3",
   "version": "3.9.13"
  },
  "vscode": {
   "interpreter": {
    "hash": "1db6d0c0fb62fcd92812f526c45c77dc568410c92bb0ad7cc615a53ad33175c5"
   }
  }
 },
 "nbformat": 4,
 "nbformat_minor": 4
}

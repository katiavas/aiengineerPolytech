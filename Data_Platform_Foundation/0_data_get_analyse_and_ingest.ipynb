{
 "cells": [
  {
   "cell_type": "markdown",
   "id": "3ece0436-1164-4bee-92d9-85b88f0864a3",
   "metadata": {},
   "source": [
    "# Get open source data"
   ]
  },
  {
   "cell_type": "markdown",
   "id": "3242fda5-854c-461d-9323-a116a28c90b2",
   "metadata": {},
   "source": [
    "We will use the well known \"Chicago Taxi Dataset\""
   ]
  },
  {
   "cell_type": "markdown",
   "id": "f0a6489d-b5d6-4943-9761-de77cf8e5e28",
   "metadata": {},
   "source": [
    "### 0.1.0 Download it from the official source"
   ]
  },
  {
   "cell_type": "code",
   "execution_count": null,
   "id": "44de6d81-1395-4e41-a00c-fc277ac84760",
   "metadata": {},
   "outputs": [],
   "source": [
    "### First create a local folder to handle data\n",
    "!mkdir chicagodata"
   ]
  },
  {
   "cell_type": "code",
   "execution_count": null,
   "id": "616925d2-691c-4385-8742-b5a1851f1172",
   "metadata": {},
   "outputs": [],
   "source": [
    "# Get the dataset Taxi Trips as CSV\n",
    "!curl --get 'https://data.cityofchicago.org/resource/wrvz-psew.csv' \\\n",
    "  --data-urlencode '$limit=10000' \\\n",
    "  --data-urlencode '$where=trip_start_timestamp >= \"2023-01-01\" AND trip_start_timestamp < \"2023-02-01\"' \\\n",
    "  --data-urlencode '$select=tips,trip_start_timestamp,trip_seconds,trip_miles,pickup_community_area,pickup_centroid_latitude,pickup_centroid_longitude,dropoff_community_area,fare,tolls,extras,trip_total' \\\n",
    "  | tr -d '\"' > \"./chicagodata/trip.csv\""
   ]
  },
  {
   "cell_type": "markdown",
   "id": "31b80222-e7c6-4c18-9c1a-7ec90d681196",
   "metadata": {},
   "source": [
    "### 0.1.1 Quick analysis"
   ]
  },
  {
   "cell_type": "code",
   "execution_count": null,
   "id": "92054d33-811c-4e28-9d29-cb2d10c87c82",
   "metadata": {},
   "outputs": [],
   "source": [
    "### import depandancies\n",
    "import pandas as pd\n",
    "import seaborn as sns"
   ]
  },
  {
   "cell_type": "code",
   "execution_count": null,
   "id": "d910b73b-f810-45e0-a705-9259696fdc14",
   "metadata": {},
   "outputs": [],
   "source": [
    "### read data using pandas reader with appropriate type and separator\n",
    "data =..."
   ]
  },
  {
   "cell_type": "code",
   "execution_count": null,
   "id": "cca4dd24-da67-4fb0-bc1d-c795f56588e5",
   "metadata": {},
   "outputs": [],
   "source": [
    "### Use pandas to see first lines of the data\n",
    "data...."
   ]
  },
  {
   "cell_type": "code",
   "execution_count": null,
   "id": "d6e43c3f-3546-40bb-8e93-f2d804743580",
   "metadata": {},
   "outputs": [],
   "source": [
    "#describe and inspect data distribution for the numerical columns\n",
    "numerical_data = ['int16', 'int32', 'int64', 'float16', 'float32', 'float64']\n",
    "data.select_dtypes(include=...).describe()"
   ]
  },
  {
   "cell_type": "code",
   "execution_count": null,
   "id": "042afdaf-b9e2-4608-a2a7-c1cdcc540be1",
   "metadata": {},
   "outputs": [],
   "source": [
    "#Using seaborn, plot the distribution of continuous variable : tips  \n",
    "sns...."
   ]
  },
  {
   "cell_type": "code",
   "execution_count": null,
   "id": "564e3a42-3474-402c-8595-91f4cd2a8f77",
   "metadata": {},
   "outputs": [],
   "source": [
    "#Using seaborn, plot the distribution of categorical variable : pickup_community_area  \n",
    "sns...."
   ]
  },
  {
   "cell_type": "code",
   "execution_count": null,
   "id": "6a6246ba-754d-43d8-ae66-da65f2e3a473",
   "metadata": {},
   "outputs": [],
   "source": [
    "### Using seaborn heatmap, plot the correlation matrix of the current dataset\n",
    "correlation = data.corr()\n",
    "hm = sns.heatmap(..., \n",
    "                 cbar=True, \n",
    "                 annot=True, \n",
    "                 square=True, \n",
    "                 fmt='.2f', \n",
    "                 yticklabels=data...., \n",
    "                 xticklabels=data....)"
   ]
  },
  {
   "cell_type": "markdown",
   "id": "07d70ceb",
   "metadata": {},
   "source": [
    "**Feel free to add any vizualization, description that will help you to summerize the data**"
   ]
  },
  {
   "cell_type": "markdown",
   "id": "926e1f18-a7f5-4fd7-8fc1-751c1c7aa6f5",
   "metadata": {},
   "source": [
    "**Now we got a first understanding of the data, we want to store it for later uses**"
   ]
  },
  {
   "cell_type": "markdown",
   "id": "a0196008-a02a-4700-9265-494d673abfb8",
   "metadata": {},
   "source": [
    "### 0.1.2 storage"
   ]
  },
  {
   "cell_type": "markdown",
   "id": "b8bd2156-e3bc-46a8-9c15-297acb9a8cb4",
   "metadata": {},
   "source": [
    "We will use `MinIO`, to store our dataset. You can look for minio in the product portal or go directly take a look at https://storage.course.aiengineer.codex-platform.com/login"
   ]
  },
  {
   "cell_type": "markdown",
   "id": "d0bab91f-6f6b-4319-88f0-c7ad586035f1",
   "metadata": {},
   "source": [
    "#### Use the minio client"
   ]
  },
  {
   "cell_type": "code",
   "execution_count": null,
   "id": "25385902-e55f-46ce-8ae2-6aea51cc77f6",
   "metadata": {},
   "outputs": [],
   "source": [
    "# import dependancies\n",
    "from minio import Minio\n",
    "import urllib3\n",
    "import os"
   ]
  },
  {
   "cell_type": "code",
   "execution_count": null,
   "id": "c4ff48be-6a02-4d9d-a3ba-9135e09bb0d9",
   "metadata": {},
   "outputs": [],
   "source": [
    "# check if \"MINIO-ACCESS-KEY\" is well assign with \"name-surname_SA\"\n",
    "os.getenv(\"MINIO-ACCESS-KEY\")"
   ]
  },
  {
   "cell_type": "code",
   "execution_count": null,
   "id": "79856e74-80d5-47db-978f-0bbd3eb6c14c",
   "metadata": {},
   "outputs": [],
   "source": [
    "## Create a client with the access key and the secret key given\n",
    "client = Minio(\n",
    "    \"storage-api.course.aiengineer.codex-platform.com\",\n",
    "    access_key=os.getenv(\"MINIO-ACCESS-KEY\"),\n",
    "    secret_key=os.getenv(\"MINIO-SECRET-KEY\"),\n",
    "    secure=True,\n",
    "    http_client=urllib3.PoolManager(\n",
    "        \n",
    "        retries=urllib3.Retry(\n",
    "            total=5,\n",
    "            backoff_factor=0.2,\n",
    "            status_forcelist=[500, 502, 503, 504],\n",
    "        ),\n",
    "    ),\n",
    ")"
   ]
  },
  {
   "cell_type": "code",
   "execution_count": null,
   "id": "a1ae51d7-ff57-4fbf-8607-6eb7cb7c8dd9",
   "metadata": {},
   "outputs": [],
   "source": [
    "### Using the minio documentation, list and print buckets\n",
    "buckets = client....\n",
    "for bucket in buckets:\n",
    "    ..."
   ]
  },
  {
   "cell_type": "code",
   "execution_count": null,
   "id": "94ff0e7c-bdd3-4fba-b86a-63eb95cb3683",
   "metadata": {},
   "outputs": [],
   "source": [
    "## define a bucket name like your credentials : firstname-lastname\n",
    "# this bucket has already been created for you before the lab\n",
    "bucket= ''#name-surname"
   ]
  },
  {
   "cell_type": "markdown",
   "id": "97d61620-b09a-4c1d-a1fe-70980f2cc70c",
   "metadata": {},
   "source": [
    "#### Put taxi dataset into your bucket"
   ]
  },
  {
   "cell_type": "code",
   "execution_count": null,
   "id": "cdb27680-b432-4211-b694-9e2902764543",
   "metadata": {},
   "outputs": [],
   "source": [
    "# install dependancies : pyarrow\n",
    "%pip install pyarrow"
   ]
  },
  {
   "cell_type": "code",
   "execution_count": null,
   "id": "5ae19427-7cda-4a63-9030-a0754e810c8a",
   "metadata": {},
   "outputs": [],
   "source": [
    "# import depandancies\n",
    "from io import BytesIO\n",
    "import pyarrow"
   ]
  },
  {
   "cell_type": "code",
   "execution_count": null,
   "id": "fc466fa7-3f29-4d51-9386-b530f45f214c",
   "metadata": {},
   "outputs": [],
   "source": [
    "### We will persist using \"parquet\" instead of csv for encoding/typing purpose\n",
    "### convert data to parquet using pandas (if you struggle with the parquet engine used by pandas, choose pyarrow)\n",
    "parquet_bytes=data....\n",
    "\n",
    "### Use BytesIO to wrap parquet into a bytes stream objetc\n",
    "parquet_buffer = ..."
   ]
  },
  {
   "cell_type": "code",
   "execution_count": null,
   "id": "a07087ee-e805-49d3-9732-ecc5234c06fb",
   "metadata": {},
   "outputs": [],
   "source": [
    "### Define the path to your chicago taxi dataset (intermediate folders are created automatically)\n",
    "path_minio=\"datasets/chicago/trips.parquet\""
   ]
  },
  {
   "cell_type": "code",
   "execution_count": null,
   "id": "4a7df860-b920-42f2-81f2-5eadaeb9d618",
   "metadata": {},
   "outputs": [],
   "source": [
    "### put the parquet file\n",
    "### fill the params with the put_object documentation\n",
    "client.put_object(...,\n",
    "                   path_minio,\n",
    "                    data=...,\n",
    "                    length=len(...),\n",
    "                    content_type='application/parquet')"
   ]
  },
  {
   "cell_type": "markdown",
   "id": "36112f10-5caa-4302-b51b-eab642a2e30f",
   "metadata": {},
   "source": [
    "#### Verify it's stored"
   ]
  },
  {
   "cell_type": "code",
   "execution_count": null,
   "id": "8a6f07a9-09a2-4e91-9b81-761d19c7d1fb",
   "metadata": {},
   "outputs": [],
   "source": [
    "### use the api to list objects into the bucket\n",
    "objects = client....\n",
    "for obj ..."
   ]
  },
  {
   "cell_type": "markdown",
   "metadata": {},
   "source": [
    "**In this notebook, we got open data, applied quick analysis and store the data in our object storage**"
   ]
  },
  {
   "cell_type": "markdown",
   "metadata": {},
   "source": []
  }
 ],
 "metadata": {
  "kernelspec": {
   "display_name": "Python 3 (ipykernel)",
   "language": "python",
   "name": "python3"
  },
  "language_info": {
   "codemirror_mode": {
    "name": "ipython",
    "version": 3
   },
   "file_extension": ".py",
   "mimetype": "text/x-python",
   "name": "python",
   "nbconvert_exporter": "python",
   "pygments_lexer": "ipython3",
   "version": "3.9.13"
  },
  "vscode": {
   "interpreter": {
    "hash": "1db6d0c0fb62fcd92812f526c45c77dc568410c92bb0ad7cc615a53ad33175c5"
   }
  }
 },
 "nbformat": 4,
 "nbformat_minor": 5
}
